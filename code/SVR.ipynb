{
 "cells": [
  {
   "cell_type": "code",
   "execution_count": null,
   "metadata": {},
   "outputs": [],
   "source": [
    "import csv\n",
    "import numpy as np\n",
    "import pandas as pd\n",
    "from sklearn.feature_extraction.text import TfidfVectorizer\n",
    "from sklearn.metrics import mean_absolute_error\n",
    "from verstack.stratified_continuous_split import scsplit # pip install verstack\n",
    "from sklearn.svm import SVR\n",
    "\n",
    "# Load the training data\n",
    "train_data = pd.read_csv(\"./data/train.csv\")\n",
    "\n",
    "# Load the evaluation data\n",
    "eval_data = pd.read_csv(\"./data/evaluation.csv\")\n",
    "# Transform our data into tfidf vectors\n",
    "vectorizer = TfidfVectorizer(max_features=100, stop_words='english')\n",
    "y_train = train_data['retweet_count']\n",
    "X_train = vectorizer.fit_transform(train_data['text'])\n",
    "\n",
    "# We fit our model using the training data\n",
    "svr_rbf = SVR(kernel='rbf')\n",
    "svr_rbf.fit(X_train, y_train)\n",
    "X_val = vectorizer.transform(eval_data['text'])\n",
    "# Predict the number of retweets for the evaluation dataset\n",
    "y_pred = svr_rbf.predict(X_val)\n",
    "# Dump the results into a file that follows the required Kaggle template\n",
    "with open(\"svr_predictions.txt\", 'w') as f:\n",
    "    writer = csv.writer(f)\n",
    "    writer.writerow([\"TweetID\", \"NoRetweets\"])\n",
    "    for index, prediction in enumerate(y_pred):\n",
    "        writer.writerow([str(eval_data['id'].iloc[index]) , str(int(prediction))])"
   ]
  }
 ],
 "metadata": {
  "kernelspec": {
   "display_name": "Python 3",
   "language": "python",
   "name": "python3"
  },
  "language_info": {
   "codemirror_mode": {
    "name": "ipython",
    "version": 3
   },
   "file_extension": ".py",
   "mimetype": "text/x-python",
   "name": "python",
   "nbconvert_exporter": "python",
   "pygments_lexer": "ipython3",
   "version": "3.7.6"
  }
 },
 "nbformat": 4,
 "nbformat_minor": 4
}
