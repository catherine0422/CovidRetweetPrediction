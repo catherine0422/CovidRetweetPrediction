{
 "cells": [
  {
   "cell_type": "code",
   "execution_count": 49,
   "metadata": {},
   "outputs": [],
   "source": [
    "import csv\n",
    "import numpy as np\n",
    "import pandas as pd\n",
    "from sklearn.feature_extraction.text import TfidfVectorizer\n",
    "from sklearn.metrics import mean_absolute_error\n",
    "from verstack.stratified_continuous_split import scsplit # pip install verstack\n",
    "from sklearn.svm import SVR, LinearSVR\n",
    "from sklearn.kernel_approximation import Nystroem\n",
    "from sklearn import preprocessing"
   ]
  },
  {
   "cell_type": "markdown",
   "metadata": {},
   "source": [
    "### data pre-precess"
   ]
  },
  {
   "cell_type": "code",
   "execution_count": 3,
   "metadata": {},
   "outputs": [],
   "source": [
    "# Load the training data\n",
    "train_data = pd.read_csv(\"data/train_transformed.csv\")"
   ]
  },
  {
   "cell_type": "code",
   "execution_count": 6,
   "metadata": {},
   "outputs": [
    {
     "data": {
      "text/html": [
       "<div>\n",
       "<style scoped>\n",
       "    .dataframe tbody tr th:only-of-type {\n",
       "        vertical-align: middle;\n",
       "    }\n",
       "\n",
       "    .dataframe tbody tr th {\n",
       "        vertical-align: top;\n",
       "    }\n",
       "\n",
       "    .dataframe thead th {\n",
       "        text-align: right;\n",
       "    }\n",
       "</style>\n",
       "<table border=\"1\" class=\"dataframe\">\n",
       "  <thead>\n",
       "    <tr style=\"text-align: right;\">\n",
       "      <th></th>\n",
       "      <th>id</th>\n",
       "      <th>user_verified</th>\n",
       "      <th>user_statuses_count</th>\n",
       "      <th>user_followers_count</th>\n",
       "      <th>user_friends_count</th>\n",
       "      <th>ratio_friends_followers</th>\n",
       "      <th>mention_exist</th>\n",
       "      <th>mention_count</th>\n",
       "      <th>url_exist</th>\n",
       "      <th>url_count</th>\n",
       "      <th>...</th>\n",
       "      <th>tf_idf_0</th>\n",
       "      <th>tf_idf_1</th>\n",
       "      <th>tf_idf_2</th>\n",
       "      <th>tf_idf_3</th>\n",
       "      <th>tf_idf_4</th>\n",
       "      <th>tf_idf_5</th>\n",
       "      <th>tf_idf_6</th>\n",
       "      <th>tf_idf_7</th>\n",
       "      <th>tf_idf_8</th>\n",
       "      <th>tf_idf_9</th>\n",
       "    </tr>\n",
       "  </thead>\n",
       "  <tbody>\n",
       "    <tr>\n",
       "      <th>0</th>\n",
       "      <td>0</td>\n",
       "      <td>0</td>\n",
       "      <td>68460</td>\n",
       "      <td>1101</td>\n",
       "      <td>1226</td>\n",
       "      <td>1.112523</td>\n",
       "      <td>0</td>\n",
       "      <td>0</td>\n",
       "      <td>0</td>\n",
       "      <td>0</td>\n",
       "      <td>...</td>\n",
       "      <td>-1.606137e-15</td>\n",
       "      <td>-1.992248e-13</td>\n",
       "      <td>-6.077335e-13</td>\n",
       "      <td>-1.726278e-12</td>\n",
       "      <td>7.402787e-13</td>\n",
       "      <td>2.375980e-14</td>\n",
       "      <td>2.692723e-13</td>\n",
       "      <td>5.657295e-13</td>\n",
       "      <td>-2.124336e-14</td>\n",
       "      <td>9.444088e-14</td>\n",
       "    </tr>\n",
       "    <tr>\n",
       "      <th>1</th>\n",
       "      <td>1</td>\n",
       "      <td>0</td>\n",
       "      <td>309</td>\n",
       "      <td>51</td>\n",
       "      <td>202</td>\n",
       "      <td>3.884615</td>\n",
       "      <td>0</td>\n",
       "      <td>0</td>\n",
       "      <td>0</td>\n",
       "      <td>0</td>\n",
       "      <td>...</td>\n",
       "      <td>1.206801e-02</td>\n",
       "      <td>2.715082e-03</td>\n",
       "      <td>1.318767e-02</td>\n",
       "      <td>3.157979e-02</td>\n",
       "      <td>2.662453e-02</td>\n",
       "      <td>1.621955e-02</td>\n",
       "      <td>-2.204838e-02</td>\n",
       "      <td>9.316040e-03</td>\n",
       "      <td>3.288260e-03</td>\n",
       "      <td>7.966161e-02</td>\n",
       "    </tr>\n",
       "    <tr>\n",
       "      <th>2</th>\n",
       "      <td>2</td>\n",
       "      <td>0</td>\n",
       "      <td>3241</td>\n",
       "      <td>1675</td>\n",
       "      <td>2325</td>\n",
       "      <td>1.387232</td>\n",
       "      <td>0</td>\n",
       "      <td>0</td>\n",
       "      <td>0</td>\n",
       "      <td>0</td>\n",
       "      <td>...</td>\n",
       "      <td>5.095493e-02</td>\n",
       "      <td>-1.131896e-03</td>\n",
       "      <td>3.852378e-02</td>\n",
       "      <td>1.163440e-01</td>\n",
       "      <td>1.542300e-01</td>\n",
       "      <td>2.938599e-01</td>\n",
       "      <td>4.018045e-01</td>\n",
       "      <td>1.909630e-01</td>\n",
       "      <td>3.218782e-01</td>\n",
       "      <td>-4.933187e-02</td>\n",
       "    </tr>\n",
       "    <tr>\n",
       "      <th>3</th>\n",
       "      <td>3</td>\n",
       "      <td>0</td>\n",
       "      <td>32327</td>\n",
       "      <td>667</td>\n",
       "      <td>304</td>\n",
       "      <td>0.455090</td>\n",
       "      <td>0</td>\n",
       "      <td>0</td>\n",
       "      <td>0</td>\n",
       "      <td>0</td>\n",
       "      <td>...</td>\n",
       "      <td>8.873053e-03</td>\n",
       "      <td>1.403727e-03</td>\n",
       "      <td>3.399734e-03</td>\n",
       "      <td>1.401861e-02</td>\n",
       "      <td>9.761796e-03</td>\n",
       "      <td>9.215406e-03</td>\n",
       "      <td>6.693422e-03</td>\n",
       "      <td>8.483338e-03</td>\n",
       "      <td>-2.502589e-03</td>\n",
       "      <td>1.261141e-02</td>\n",
       "    </tr>\n",
       "    <tr>\n",
       "      <th>4</th>\n",
       "      <td>4</td>\n",
       "      <td>0</td>\n",
       "      <td>581</td>\n",
       "      <td>42</td>\n",
       "      <td>127</td>\n",
       "      <td>2.953488</td>\n",
       "      <td>0</td>\n",
       "      <td>0</td>\n",
       "      <td>0</td>\n",
       "      <td>0</td>\n",
       "      <td>...</td>\n",
       "      <td>2.774364e-02</td>\n",
       "      <td>-1.756079e-03</td>\n",
       "      <td>8.245230e-03</td>\n",
       "      <td>3.155745e-02</td>\n",
       "      <td>1.385880e-02</td>\n",
       "      <td>5.119571e-03</td>\n",
       "      <td>3.617241e-03</td>\n",
       "      <td>1.908667e-02</td>\n",
       "      <td>-1.212654e-02</td>\n",
       "      <td>1.883319e-02</td>\n",
       "    </tr>\n",
       "  </tbody>\n",
       "</table>\n",
       "<p>5 rows × 31 columns</p>\n",
       "</div>"
      ],
      "text/plain": [
       "   id  user_verified  user_statuses_count  user_followers_count  \\\n",
       "0   0              0                68460                  1101   \n",
       "1   1              0                  309                    51   \n",
       "2   2              0                 3241                  1675   \n",
       "3   3              0                32327                   667   \n",
       "4   4              0                  581                    42   \n",
       "\n",
       "   user_friends_count  ratio_friends_followers  mention_exist  mention_count  \\\n",
       "0                1226                 1.112523              0              0   \n",
       "1                 202                 3.884615              0              0   \n",
       "2                2325                 1.387232              0              0   \n",
       "3                 304                 0.455090              0              0   \n",
       "4                 127                 2.953488              0              0   \n",
       "\n",
       "   url_exist  url_count  ...      tf_idf_0      tf_idf_1      tf_idf_2  \\\n",
       "0          0          0  ... -1.606137e-15 -1.992248e-13 -6.077335e-13   \n",
       "1          0          0  ...  1.206801e-02  2.715082e-03  1.318767e-02   \n",
       "2          0          0  ...  5.095493e-02 -1.131896e-03  3.852378e-02   \n",
       "3          0          0  ...  8.873053e-03  1.403727e-03  3.399734e-03   \n",
       "4          0          0  ...  2.774364e-02 -1.756079e-03  8.245230e-03   \n",
       "\n",
       "       tf_idf_3      tf_idf_4      tf_idf_5      tf_idf_6      tf_idf_7  \\\n",
       "0 -1.726278e-12  7.402787e-13  2.375980e-14  2.692723e-13  5.657295e-13   \n",
       "1  3.157979e-02  2.662453e-02  1.621955e-02 -2.204838e-02  9.316040e-03   \n",
       "2  1.163440e-01  1.542300e-01  2.938599e-01  4.018045e-01  1.909630e-01   \n",
       "3  1.401861e-02  9.761796e-03  9.215406e-03  6.693422e-03  8.483338e-03   \n",
       "4  3.155745e-02  1.385880e-02  5.119571e-03  3.617241e-03  1.908667e-02   \n",
       "\n",
       "       tf_idf_8      tf_idf_9  \n",
       "0 -2.124336e-14  9.444088e-14  \n",
       "1  3.288260e-03  7.966161e-02  \n",
       "2  3.218782e-01 -4.933187e-02  \n",
       "3 -2.502589e-03  1.261141e-02  \n",
       "4 -1.212654e-02  1.883319e-02  \n",
       "\n",
       "[5 rows x 31 columns]"
      ]
     },
     "execution_count": 6,
     "metadata": {},
     "output_type": "execute_result"
    }
   ],
   "source": [
    "train_data.head()"
   ]
  },
  {
   "cell_type": "code",
   "execution_count": 77,
   "metadata": {},
   "outputs": [
    {
     "name": "stdout",
     "output_type": "stream",
     "text": [
      "[-10, -9, -8, 2, 3, 4]\n"
     ]
    }
   ],
   "source": [
    "#features_number=np.append([-12,-13,-14,-15],np.arange(-10,0,1))\n",
    "features_number=[-10,-9,-8,2,3,4]\n",
    "print(features_number)"
   ]
  },
  {
   "cell_type": "code",
   "execution_count": 1,
   "metadata": {},
   "outputs": [],
   "source": [
    "def get_features_set(X_train, features_number):\n",
    "    features = X_train.columns.values.tolist()\n",
    "    cols = []\n",
    "    for i in features_number:\n",
    "        cols.append(features[i])\n",
    "    return X_train[cols]"
   ]
  },
  {
   "cell_type": "code",
   "execution_count": 8,
   "metadata": {},
   "outputs": [],
   "source": [
    "# scsplit method is used in order to split our regression data in a stratisfied way and keep a similar distribution of retweet counts between the two sets\n",
    "X_train_all, X_test_all, y_train, y_test = scsplit(train_data, train_data['retweet_count'], stratify=train_data['retweet_count'], train_size=0.7, test_size=0.3)\n"
   ]
  },
  {
   "cell_type": "code",
   "execution_count": 9,
   "metadata": {},
   "outputs": [
    {
     "name": "stdout",
     "output_type": "stream",
     "text": [
      "['id', 'user_verified', 'user_statuses_count', 'user_followers_count', 'user_friends_count', 'ratio_friends_followers', 'mention_exist', 'mention_count', 'url_exist', 'url_count', 'hashtag_exist', 'hashtag_count', 'timeseg', 'weekend', 'day_of_week', 'text_length', 'sentiment_pos', 'sentiment_neg', 'sentiment_neu', 'sentiment_comp', 'retweet_count', 'tf_idf_0', 'tf_idf_1', 'tf_idf_2', 'tf_idf_3', 'tf_idf_4', 'tf_idf_5', 'tf_idf_6', 'tf_idf_7', 'tf_idf_8', 'tf_idf_9']\n"
     ]
    }
   ],
   "source": [
    "print(train_data.columns.values.tolist())"
   ]
  },
  {
   "cell_type": "code",
   "execution_count": 82,
   "metadata": {},
   "outputs": [
    {
     "data": {
      "text/html": [
       "<div>\n",
       "<style scoped>\n",
       "    .dataframe tbody tr th:only-of-type {\n",
       "        vertical-align: middle;\n",
       "    }\n",
       "\n",
       "    .dataframe tbody tr th {\n",
       "        vertical-align: top;\n",
       "    }\n",
       "\n",
       "    .dataframe thead th {\n",
       "        text-align: right;\n",
       "    }\n",
       "</style>\n",
       "<table border=\"1\" class=\"dataframe\">\n",
       "  <thead>\n",
       "    <tr style=\"text-align: right;\">\n",
       "      <th></th>\n",
       "      <th>tf_idf_0</th>\n",
       "      <th>tf_idf_1</th>\n",
       "      <th>tf_idf_2</th>\n",
       "      <th>user_statuses_count</th>\n",
       "      <th>user_followers_count</th>\n",
       "      <th>user_friends_count</th>\n",
       "    </tr>\n",
       "  </thead>\n",
       "  <tbody>\n",
       "    <tr>\n",
       "      <th>138941</th>\n",
       "      <td>0.032565</td>\n",
       "      <td>0.010268</td>\n",
       "      <td>0.010578</td>\n",
       "      <td>4969</td>\n",
       "      <td>683</td>\n",
       "      <td>905</td>\n",
       "    </tr>\n",
       "    <tr>\n",
       "      <th>36838</th>\n",
       "      <td>0.021194</td>\n",
       "      <td>0.002777</td>\n",
       "      <td>0.008542</td>\n",
       "      <td>13654</td>\n",
       "      <td>1395</td>\n",
       "      <td>1716</td>\n",
       "    </tr>\n",
       "    <tr>\n",
       "      <th>416454</th>\n",
       "      <td>0.366710</td>\n",
       "      <td>-0.098684</td>\n",
       "      <td>-0.277720</td>\n",
       "      <td>1137</td>\n",
       "      <td>1242</td>\n",
       "      <td>1142</td>\n",
       "    </tr>\n",
       "    <tr>\n",
       "      <th>656956</th>\n",
       "      <td>0.034345</td>\n",
       "      <td>-0.011252</td>\n",
       "      <td>0.036042</td>\n",
       "      <td>3169</td>\n",
       "      <td>153</td>\n",
       "      <td>278</td>\n",
       "    </tr>\n",
       "    <tr>\n",
       "      <th>639505</th>\n",
       "      <td>0.292932</td>\n",
       "      <td>-0.054718</td>\n",
       "      <td>-0.119719</td>\n",
       "      <td>17500</td>\n",
       "      <td>2170</td>\n",
       "      <td>3654</td>\n",
       "    </tr>\n",
       "  </tbody>\n",
       "</table>\n",
       "</div>"
      ],
      "text/plain": [
       "        tf_idf_0  tf_idf_1  tf_idf_2  user_statuses_count  \\\n",
       "138941  0.032565  0.010268  0.010578                 4969   \n",
       "36838   0.021194  0.002777  0.008542                13654   \n",
       "416454  0.366710 -0.098684 -0.277720                 1137   \n",
       "656956  0.034345 -0.011252  0.036042                 3169   \n",
       "639505  0.292932 -0.054718 -0.119719                17500   \n",
       "\n",
       "        user_followers_count  user_friends_count  \n",
       "138941                   683                 905  \n",
       "36838                   1395                1716  \n",
       "416454                  1242                1142  \n",
       "656956                   153                 278  \n",
       "639505                  2170                3654  "
      ]
     },
     "execution_count": 82,
     "metadata": {},
     "output_type": "execute_result"
    }
   ],
   "source": [
    "X_train = get_features_set(X_train_all, features_number)\n",
    "X_test =  get_features_set(X_test_all, features_number )\n",
    "X_train.head()"
   ]
  },
  {
   "cell_type": "markdown",
   "metadata": {},
   "source": [
    "## MODEL\n",
    "\n",
    "###  1) SVR\n"
   ]
  },
  {
   "cell_type": "markdown",
   "metadata": {},
   "source": [
    "####  1.1 LinearSVR"
   ]
  },
  {
   "cell_type": "code",
   "execution_count": 43,
   "metadata": {},
   "outputs": [],
   "source": [
    "# import random\n",
    "# random.seed( 10 )"
   ]
  },
  {
   "cell_type": "code",
   "execution_count": 43,
   "metadata": {},
   "outputs": [],
   "source": [
    "def linearsvr_predict(X_train, y_train,X_test):\n",
    "    clf = LinearSVR()\n",
    "    clf.fit(X_train, y_train)\n",
    "    return clf.predict(X_test)"
   ]
  },
  {
   "cell_type": "code",
   "execution_count": 70,
   "metadata": {},
   "outputs": [
    {
     "data": {
      "text/html": [
       "<div>\n",
       "<style scoped>\n",
       "    .dataframe tbody tr th:only-of-type {\n",
       "        vertical-align: middle;\n",
       "    }\n",
       "\n",
       "    .dataframe tbody tr th {\n",
       "        vertical-align: top;\n",
       "    }\n",
       "\n",
       "    .dataframe thead th {\n",
       "        text-align: right;\n",
       "    }\n",
       "</style>\n",
       "<table border=\"1\" class=\"dataframe\">\n",
       "  <thead>\n",
       "    <tr style=\"text-align: right;\">\n",
       "      <th></th>\n",
       "      <th>tf_idf_0</th>\n",
       "      <th>tf_idf_1</th>\n",
       "      <th>tf_idf_2</th>\n",
       "      <th>user_statuses_count</th>\n",
       "    </tr>\n",
       "  </thead>\n",
       "  <tbody>\n",
       "    <tr>\n",
       "      <th>560815</th>\n",
       "      <td>0.007523</td>\n",
       "      <td>0.000980</td>\n",
       "      <td>0.004954</td>\n",
       "      <td>4147</td>\n",
       "    </tr>\n",
       "    <tr>\n",
       "      <th>232971</th>\n",
       "      <td>0.023046</td>\n",
       "      <td>0.000395</td>\n",
       "      <td>-0.008143</td>\n",
       "      <td>13127</td>\n",
       "    </tr>\n",
       "    <tr>\n",
       "      <th>143188</th>\n",
       "      <td>0.220172</td>\n",
       "      <td>0.483013</td>\n",
       "      <td>0.160172</td>\n",
       "      <td>10052</td>\n",
       "    </tr>\n",
       "    <tr>\n",
       "      <th>103456</th>\n",
       "      <td>0.549239</td>\n",
       "      <td>-0.262622</td>\n",
       "      <td>0.287493</td>\n",
       "      <td>331769</td>\n",
       "    </tr>\n",
       "    <tr>\n",
       "      <th>262947</th>\n",
       "      <td>0.011707</td>\n",
       "      <td>0.000347</td>\n",
       "      <td>0.007341</td>\n",
       "      <td>822</td>\n",
       "    </tr>\n",
       "    <tr>\n",
       "      <th>141169</th>\n",
       "      <td>0.006097</td>\n",
       "      <td>0.001632</td>\n",
       "      <td>0.007479</td>\n",
       "      <td>23034</td>\n",
       "    </tr>\n",
       "    <tr>\n",
       "      <th>324891</th>\n",
       "      <td>0.035267</td>\n",
       "      <td>0.006007</td>\n",
       "      <td>0.041262</td>\n",
       "      <td>7387</td>\n",
       "    </tr>\n",
       "    <tr>\n",
       "      <th>124429</th>\n",
       "      <td>0.034262</td>\n",
       "      <td>0.002831</td>\n",
       "      <td>0.024745</td>\n",
       "      <td>5356</td>\n",
       "    </tr>\n",
       "    <tr>\n",
       "      <th>503872</th>\n",
       "      <td>0.000000</td>\n",
       "      <td>-0.000000</td>\n",
       "      <td>-0.000000</td>\n",
       "      <td>233281</td>\n",
       "    </tr>\n",
       "    <tr>\n",
       "      <th>316368</th>\n",
       "      <td>0.242582</td>\n",
       "      <td>-0.110074</td>\n",
       "      <td>0.126596</td>\n",
       "      <td>11965</td>\n",
       "    </tr>\n",
       "  </tbody>\n",
       "</table>\n",
       "</div>"
      ],
      "text/plain": [
       "        tf_idf_0  tf_idf_1  tf_idf_2  user_statuses_count\n",
       "560815  0.007523  0.000980  0.004954                 4147\n",
       "232971  0.023046  0.000395 -0.008143                13127\n",
       "143188  0.220172  0.483013  0.160172                10052\n",
       "103456  0.549239 -0.262622  0.287493               331769\n",
       "262947  0.011707  0.000347  0.007341                  822\n",
       "141169  0.006097  0.001632  0.007479                23034\n",
       "324891  0.035267  0.006007  0.041262                 7387\n",
       "124429  0.034262  0.002831  0.024745                 5356\n",
       "503872  0.000000 -0.000000 -0.000000               233281\n",
       "316368  0.242582 -0.110074  0.126596                11965"
      ]
     },
     "execution_count": 70,
     "metadata": {},
     "output_type": "execute_result"
    }
   ],
   "source": [
    "X_test.head(10)"
   ]
  },
  {
   "cell_type": "code",
   "execution_count": 80,
   "metadata": {},
   "outputs": [
    {
     "data": {
      "text/html": [
       "<div>\n",
       "<style scoped>\n",
       "    .dataframe tbody tr th:only-of-type {\n",
       "        vertical-align: middle;\n",
       "    }\n",
       "\n",
       "    .dataframe tbody tr th {\n",
       "        vertical-align: top;\n",
       "    }\n",
       "\n",
       "    .dataframe thead th {\n",
       "        text-align: right;\n",
       "    }\n",
       "</style>\n",
       "<table border=\"1\" class=\"dataframe\">\n",
       "  <thead>\n",
       "    <tr style=\"text-align: right;\">\n",
       "      <th></th>\n",
       "      <th>tf_idf_0</th>\n",
       "      <th>tf_idf_1</th>\n",
       "      <th>tf_idf_2</th>\n",
       "      <th>user_statuses_count</th>\n",
       "      <th>user_followers_count</th>\n",
       "      <th>user_friends_count</th>\n",
       "    </tr>\n",
       "  </thead>\n",
       "  <tbody>\n",
       "    <tr>\n",
       "      <th>560815</th>\n",
       "      <td>0.007523</td>\n",
       "      <td>0.000980</td>\n",
       "      <td>0.004954</td>\n",
       "      <td>-0.380154</td>\n",
       "      <td>-0.095160</td>\n",
       "      <td>-0.100657</td>\n",
       "    </tr>\n",
       "    <tr>\n",
       "      <th>232971</th>\n",
       "      <td>0.023046</td>\n",
       "      <td>0.000395</td>\n",
       "      <td>-0.008143</td>\n",
       "      <td>-0.289175</td>\n",
       "      <td>-0.095250</td>\n",
       "      <td>-0.106499</td>\n",
       "    </tr>\n",
       "    <tr>\n",
       "      <th>143188</th>\n",
       "      <td>0.220172</td>\n",
       "      <td>0.483013</td>\n",
       "      <td>0.160172</td>\n",
       "      <td>-0.320329</td>\n",
       "      <td>-0.095137</td>\n",
       "      <td>-0.121594</td>\n",
       "    </tr>\n",
       "    <tr>\n",
       "      <th>103456</th>\n",
       "      <td>0.549239</td>\n",
       "      <td>-0.262622</td>\n",
       "      <td>0.287493</td>\n",
       "      <td>2.939080</td>\n",
       "      <td>0.039672</td>\n",
       "      <td>-0.075210</td>\n",
       "    </tr>\n",
       "    <tr>\n",
       "      <th>262947</th>\n",
       "      <td>0.011707</td>\n",
       "      <td>0.000347</td>\n",
       "      <td>0.007341</td>\n",
       "      <td>-0.413841</td>\n",
       "      <td>-0.095387</td>\n",
       "      <td>-0.146059</td>\n",
       "    </tr>\n",
       "    <tr>\n",
       "      <th>141169</th>\n",
       "      <td>0.006097</td>\n",
       "      <td>0.001632</td>\n",
       "      <td>0.007479</td>\n",
       "      <td>-0.188804</td>\n",
       "      <td>-0.088916</td>\n",
       "      <td>0.020104</td>\n",
       "    </tr>\n",
       "    <tr>\n",
       "      <th>324891</th>\n",
       "      <td>0.035267</td>\n",
       "      <td>0.006007</td>\n",
       "      <td>0.041262</td>\n",
       "      <td>-0.347329</td>\n",
       "      <td>-0.095284</td>\n",
       "      <td>-0.146753</td>\n",
       "    </tr>\n",
       "    <tr>\n",
       "      <th>124429</th>\n",
       "      <td>0.034262</td>\n",
       "      <td>0.002831</td>\n",
       "      <td>0.024745</td>\n",
       "      <td>-0.367905</td>\n",
       "      <td>-0.095276</td>\n",
       "      <td>-0.133855</td>\n",
       "    </tr>\n",
       "    <tr>\n",
       "      <th>503872</th>\n",
       "      <td>0.000000</td>\n",
       "      <td>-0.000000</td>\n",
       "      <td>-0.000000</td>\n",
       "      <td>1.941270</td>\n",
       "      <td>-0.094108</td>\n",
       "      <td>-0.097650</td>\n",
       "    </tr>\n",
       "    <tr>\n",
       "      <th>316368</th>\n",
       "      <td>0.242582</td>\n",
       "      <td>-0.110074</td>\n",
       "      <td>0.126596</td>\n",
       "      <td>-0.300948</td>\n",
       "      <td>-0.092834</td>\n",
       "      <td>0.168279</td>\n",
       "    </tr>\n",
       "  </tbody>\n",
       "</table>\n",
       "</div>"
      ],
      "text/plain": [
       "        tf_idf_0  tf_idf_1  tf_idf_2  user_statuses_count  \\\n",
       "560815  0.007523  0.000980  0.004954            -0.380154   \n",
       "232971  0.023046  0.000395 -0.008143            -0.289175   \n",
       "143188  0.220172  0.483013  0.160172            -0.320329   \n",
       "103456  0.549239 -0.262622  0.287493             2.939080   \n",
       "262947  0.011707  0.000347  0.007341            -0.413841   \n",
       "141169  0.006097  0.001632  0.007479            -0.188804   \n",
       "324891  0.035267  0.006007  0.041262            -0.347329   \n",
       "124429  0.034262  0.002831  0.024745            -0.367905   \n",
       "503872  0.000000 -0.000000 -0.000000             1.941270   \n",
       "316368  0.242582 -0.110074  0.126596            -0.300948   \n",
       "\n",
       "        user_followers_count  user_friends_count  \n",
       "560815             -0.095160           -0.100657  \n",
       "232971             -0.095250           -0.106499  \n",
       "143188             -0.095137           -0.121594  \n",
       "103456              0.039672           -0.075210  \n",
       "262947             -0.095387           -0.146059  \n",
       "141169             -0.088916            0.020104  \n",
       "324891             -0.095284           -0.146753  \n",
       "124429             -0.095276           -0.133855  \n",
       "503872             -0.094108           -0.097650  \n",
       "316368             -0.092834            0.168279  "
      ]
     },
     "execution_count": 80,
     "metadata": {},
     "output_type": "execute_result"
    }
   ],
   "source": [
    "scaler = preprocessing.StandardScaler()\n",
    "X_train[\"user_statuses_count\"] = scaler.fit_transform(np.array(X_train[\"user_statuses_count\"]).reshape(-1,1))\n",
    "X_test[\"user_statuses_count\"] = scaler.transform(np.array(X_test[\"user_statuses_count\"]).reshape(-1,1))\n",
    "scaler = preprocessing.StandardScaler()\n",
    "X_train[\"user_followers_count\"] = scaler.fit_transform(np.array(X_train[\"user_followers_count\"]).reshape(-1,1))\n",
    "X_test[\"user_followers_count\"] = scaler.transform(np.array(X_test[\"user_followers_count\"]).reshape(-1,1))\n",
    "scaler = preprocessing.StandardScaler()\n",
    "X_train[\"user_friends_count\"] = scaler.fit_transform(np.array(X_train[\"user_friends_count\"]).reshape(-1,1))\n",
    "X_test[\"user_friends_count\"] = scaler.transform(np.array(X_test[\"user_friends_count\"]).reshape(-1,1))\n",
    "X_test.head(10)"
   ]
  },
  {
   "cell_type": "code",
   "execution_count": null,
   "metadata": {},
   "outputs": [],
   "source": [
    "y_test_pre=linearsvr_predict(X_train, y_train, X_test)\n",
    "print(\"Prediction error rbf:\", mean_absolute_error(y_true=y_test, y_pred=y_test_pre))"
   ]
  },
  {
   "cell_type": "markdown",
   "metadata": {},
   "source": [
    "####   1.2 kernel approximation + LinearSVR"
   ]
  },
  {
   "cell_type": "code",
   "execution_count": 11,
   "metadata": {},
   "outputs": [],
   "source": [
    "def ka_linearsvr_predict(X_train,y_train,X_test):\n",
    "    # kernel approximation \n",
    "    feature_map_nystroem = Nystroem()\n",
    "    X_train_transformed = feature_map_nystroem.fit_transform(X_train)\n",
    "    X_test_transformed = feature_map_nystroem.fit_transform(X_test)\n",
    "    \n",
    "    # svr\n",
    "    clf = LinearSVR()\n",
    "    clf.fit(X_train_transformed, y_train)\n",
    "    \n",
    "    return clf.predict(X_test_transformed)"
   ]
  },
  {
   "cell_type": "code",
   "execution_count": 59,
   "metadata": {},
   "outputs": [
    {
     "ename": "KeyboardInterrupt",
     "evalue": "",
     "output_type": "error",
     "traceback": [
      "\u001b[1;31m---------------------------------------------------------------------------\u001b[0m",
      "\u001b[1;31mKeyboardInterrupt\u001b[0m                         Traceback (most recent call last)",
      "\u001b[1;32m<ipython-input-59-ce47f9987104>\u001b[0m in \u001b[0;36m<module>\u001b[1;34m\u001b[0m\n\u001b[1;32m----> 1\u001b[1;33m \u001b[0my_test_pre\u001b[0m \u001b[1;33m=\u001b[0m\u001b[0mka_linearsvr_predict\u001b[0m\u001b[1;33m(\u001b[0m\u001b[0mX_train\u001b[0m\u001b[1;33m,\u001b[0m\u001b[0my_train\u001b[0m\u001b[1;33m,\u001b[0m\u001b[0mX_test\u001b[0m\u001b[1;33m)\u001b[0m\u001b[1;33m\u001b[0m\u001b[1;33m\u001b[0m\u001b[0m\n\u001b[0m\u001b[0;32m      2\u001b[0m \u001b[0mX_train\u001b[0m\u001b[1;33m.\u001b[0m\u001b[0mhead\u001b[0m\u001b[1;33m(\u001b[0m\u001b[1;33m)\u001b[0m\u001b[1;33m\u001b[0m\u001b[1;33m\u001b[0m\u001b[0m\n\u001b[0;32m      3\u001b[0m \u001b[0mprint\u001b[0m\u001b[1;33m(\u001b[0m\u001b[1;34m\"Prediction error rbf:\"\u001b[0m\u001b[1;33m,\u001b[0m \u001b[0mmean_absolute_error\u001b[0m\u001b[1;33m(\u001b[0m\u001b[0my_true\u001b[0m\u001b[1;33m=\u001b[0m\u001b[0my_test\u001b[0m\u001b[1;33m,\u001b[0m \u001b[0my_pred\u001b[0m\u001b[1;33m=\u001b[0m\u001b[0my_test_pre\u001b[0m\u001b[1;33m)\u001b[0m\u001b[1;33m)\u001b[0m\u001b[1;33m\u001b[0m\u001b[1;33m\u001b[0m\u001b[0m\n",
      "\u001b[1;32m<ipython-input-11-9d0f3f6e8107>\u001b[0m in \u001b[0;36mka_linearsvr_predict\u001b[1;34m(X_train, y_train, X_test)\u001b[0m\n\u001b[0;32m      7\u001b[0m     \u001b[1;31m# svr\u001b[0m\u001b[1;33m\u001b[0m\u001b[1;33m\u001b[0m\u001b[1;33m\u001b[0m\u001b[0m\n\u001b[0;32m      8\u001b[0m     \u001b[0mclf\u001b[0m \u001b[1;33m=\u001b[0m \u001b[0mLinearSVR\u001b[0m\u001b[1;33m(\u001b[0m\u001b[1;33m)\u001b[0m\u001b[1;33m\u001b[0m\u001b[1;33m\u001b[0m\u001b[0m\n\u001b[1;32m----> 9\u001b[1;33m     \u001b[0mclf\u001b[0m\u001b[1;33m.\u001b[0m\u001b[0mfit\u001b[0m\u001b[1;33m(\u001b[0m\u001b[0mX_train_transformed\u001b[0m\u001b[1;33m,\u001b[0m \u001b[0my_train\u001b[0m\u001b[1;33m)\u001b[0m\u001b[1;33m\u001b[0m\u001b[1;33m\u001b[0m\u001b[0m\n\u001b[0m\u001b[0;32m     10\u001b[0m \u001b[1;33m\u001b[0m\u001b[0m\n\u001b[0;32m     11\u001b[0m     \u001b[1;32mreturn\u001b[0m \u001b[0mclf\u001b[0m\u001b[1;33m.\u001b[0m\u001b[0mpredict\u001b[0m\u001b[1;33m(\u001b[0m\u001b[0mX_test_transformed\u001b[0m\u001b[1;33m)\u001b[0m\u001b[1;33m\u001b[0m\u001b[1;33m\u001b[0m\u001b[0m\n",
      "\u001b[1;32mC:\\logciel\\Anaconda3\\lib\\site-packages\\sklearn\\svm\\_classes.py\u001b[0m in \u001b[0;36mfit\u001b[1;34m(self, X, y, sample_weight)\u001b[0m\n\u001b[0;32m    430\u001b[0m             \u001b[1;32mNone\u001b[0m\u001b[1;33m,\u001b[0m \u001b[0mpenalty\u001b[0m\u001b[1;33m,\u001b[0m \u001b[0mself\u001b[0m\u001b[1;33m.\u001b[0m\u001b[0mdual\u001b[0m\u001b[1;33m,\u001b[0m \u001b[0mself\u001b[0m\u001b[1;33m.\u001b[0m\u001b[0mverbose\u001b[0m\u001b[1;33m,\u001b[0m\u001b[1;33m\u001b[0m\u001b[1;33m\u001b[0m\u001b[0m\n\u001b[0;32m    431\u001b[0m             \u001b[0mself\u001b[0m\u001b[1;33m.\u001b[0m\u001b[0mmax_iter\u001b[0m\u001b[1;33m,\u001b[0m \u001b[0mself\u001b[0m\u001b[1;33m.\u001b[0m\u001b[0mtol\u001b[0m\u001b[1;33m,\u001b[0m \u001b[0mself\u001b[0m\u001b[1;33m.\u001b[0m\u001b[0mrandom_state\u001b[0m\u001b[1;33m,\u001b[0m \u001b[0mloss\u001b[0m\u001b[1;33m=\u001b[0m\u001b[0mself\u001b[0m\u001b[1;33m.\u001b[0m\u001b[0mloss\u001b[0m\u001b[1;33m,\u001b[0m\u001b[1;33m\u001b[0m\u001b[1;33m\u001b[0m\u001b[0m\n\u001b[1;32m--> 432\u001b[1;33m             epsilon=self.epsilon, sample_weight=sample_weight)\n\u001b[0m\u001b[0;32m    433\u001b[0m         \u001b[0mself\u001b[0m\u001b[1;33m.\u001b[0m\u001b[0mcoef_\u001b[0m \u001b[1;33m=\u001b[0m \u001b[0mself\u001b[0m\u001b[1;33m.\u001b[0m\u001b[0mcoef_\u001b[0m\u001b[1;33m.\u001b[0m\u001b[0mravel\u001b[0m\u001b[1;33m(\u001b[0m\u001b[1;33m)\u001b[0m\u001b[1;33m\u001b[0m\u001b[1;33m\u001b[0m\u001b[0m\n\u001b[0;32m    434\u001b[0m \u001b[1;33m\u001b[0m\u001b[0m\n",
      "\u001b[1;32mC:\\logciel\\Anaconda3\\lib\\site-packages\\sklearn\\svm\\_base.py\u001b[0m in \u001b[0;36m_fit_liblinear\u001b[1;34m(X, y, C, fit_intercept, intercept_scaling, class_weight, penalty, dual, verbose, max_iter, tol, random_state, multi_class, loss, epsilon, sample_weight)\u001b[0m\n\u001b[0;32m    937\u001b[0m         \u001b[0mX\u001b[0m\u001b[1;33m,\u001b[0m \u001b[0my_ind\u001b[0m\u001b[1;33m,\u001b[0m \u001b[0msp\u001b[0m\u001b[1;33m.\u001b[0m\u001b[0misspmatrix\u001b[0m\u001b[1;33m(\u001b[0m\u001b[0mX\u001b[0m\u001b[1;33m)\u001b[0m\u001b[1;33m,\u001b[0m \u001b[0msolver_type\u001b[0m\u001b[1;33m,\u001b[0m \u001b[0mtol\u001b[0m\u001b[1;33m,\u001b[0m \u001b[0mbias\u001b[0m\u001b[1;33m,\u001b[0m \u001b[0mC\u001b[0m\u001b[1;33m,\u001b[0m\u001b[1;33m\u001b[0m\u001b[1;33m\u001b[0m\u001b[0m\n\u001b[0;32m    938\u001b[0m         \u001b[0mclass_weight_\u001b[0m\u001b[1;33m,\u001b[0m \u001b[0mmax_iter\u001b[0m\u001b[1;33m,\u001b[0m \u001b[0mrnd\u001b[0m\u001b[1;33m.\u001b[0m\u001b[0mrandint\u001b[0m\u001b[1;33m(\u001b[0m\u001b[0mnp\u001b[0m\u001b[1;33m.\u001b[0m\u001b[0miinfo\u001b[0m\u001b[1;33m(\u001b[0m\u001b[1;34m'i'\u001b[0m\u001b[1;33m)\u001b[0m\u001b[1;33m.\u001b[0m\u001b[0mmax\u001b[0m\u001b[1;33m)\u001b[0m\u001b[1;33m,\u001b[0m\u001b[1;33m\u001b[0m\u001b[1;33m\u001b[0m\u001b[0m\n\u001b[1;32m--> 939\u001b[1;33m         epsilon, sample_weight)\n\u001b[0m\u001b[0;32m    940\u001b[0m     \u001b[1;31m# Regarding rnd.randint(..) in the above signature:\u001b[0m\u001b[1;33m\u001b[0m\u001b[1;33m\u001b[0m\u001b[1;33m\u001b[0m\u001b[0m\n\u001b[0;32m    941\u001b[0m     \u001b[1;31m# seed for srand in range [0..INT_MAX); due to limitations in Numpy\u001b[0m\u001b[1;33m\u001b[0m\u001b[1;33m\u001b[0m\u001b[1;33m\u001b[0m\u001b[0m\n",
      "\u001b[1;31mKeyboardInterrupt\u001b[0m: "
     ]
    }
   ],
   "source": [
    "y_test_pre =ka_linearsvr_predict(X_train,y_train,X_test)\n",
    "print(\"Prediction error rbf:\", mean_absolute_error(y_true=y_test, y_pred=y_test_pre))"
   ]
  },
  {
   "cell_type": "markdown",
   "metadata": {},
   "source": [
    "####  1.3 kernel approximation + SGDRegressor"
   ]
  },
  {
   "cell_type": "code",
   "execution_count": 15,
   "metadata": {},
   "outputs": [],
   "source": [
    "from sklearn.linear_model import SGDRegressor\n",
    "from sklearn.pipeline import make_pipeline\n",
    "from sklearn.preprocessing import StandardScaler\n"
   ]
  },
  {
   "cell_type": "code",
   "execution_count": 16,
   "metadata": {},
   "outputs": [],
   "source": [
    "def kasgd(X_train_data,X_test_data, y_train,y_test):\n",
    "    feature_map_nystroem = Nystroem()\n",
    "    X_train_transformed = feature_map_nystroem.fit_transform(X_train_data)\n",
    "    X_test_transformed = feature_map_nystroem.transform(X_test_data)\n",
    "    reg = make_pipeline(StandardScaler(),SGDRegressor(max_iter=1000, tol=1e-3))\n",
    "    reg.fit(X_train_transformed, y_train)\n",
    "    y_pre=reg.predict(X_test_transformed)\n",
    "    print(\"Prediction error rbf:\", mean_absolute_error(y_true=y_test, y_pred=y_pre))"
   ]
  },
  {
   "cell_type": "code",
   "execution_count": 18,
   "metadata": {},
   "outputs": [
    {
     "name": "stdout",
     "output_type": "stream",
     "text": [
      "Prediction error rbf: 331.30064846683445\n"
     ]
    }
   ],
   "source": [
    "kasgd(X_train,X_test, y_train,y_test)"
   ]
  },
  {
   "cell_type": "markdown",
   "metadata": {},
   "source": [
    "####  1.4 SGDRegressor"
   ]
  },
  {
   "cell_type": "code",
   "execution_count": 19,
   "metadata": {},
   "outputs": [],
   "source": [
    "def sgd(X_train_data,X_test_data, y_train,y_test):\n",
    "    reg = make_pipeline(StandardScaler(),SGDRegressor(max_iter=1000, tol=1e-3))\n",
    "    reg.fit(X_train_data, y_train)\n",
    "    y_pre=reg.predict(X_test_data)\n",
    "    print(\"Prediction error rbf:\", mean_absolute_error(y_true=y_test, y_pred=y_pre))"
   ]
  },
  {
   "cell_type": "code",
   "execution_count": 23,
   "metadata": {},
   "outputs": [
    {
     "name": "stdout",
     "output_type": "stream",
     "text": [
      "Prediction error rbf: 274.69940515841137\n"
     ]
    }
   ],
   "source": [
    "sgd(X_train_data,X_test_data, y_train,y_test)"
   ]
  },
  {
   "cell_type": "markdown",
   "metadata": {},
   "source": [
    "### prediction"
   ]
  },
  {
   "cell_type": "code",
   "execution_count": 87,
   "metadata": {},
   "outputs": [],
   "source": [
    "X_train=get_features_set(train_data, features_number)\n",
    "y_train = train_data['retweet_count']\n",
    "eval_data = pd.read_csv(\"data/evaluation_transformed.csv\")\n",
    "X_val = get_features_set(eval_data, features_number)\n",
    "\n",
    "\n",
    "\n",
    "y_pred = ka_linearsvr_predict(X_train,y_train,X_val) #################\n",
    "\n",
    "# Dump the results into a file that follows the required Kaggle template\n",
    "with open(\"prediction/svr_predictions.csv\", 'w') as f:\n",
    "    writer = csv.writer(f)\n",
    "    writer.writerow([\"TweetID\", \"NoRetweets\"])\n",
    "    for index, prediction in enumerate(y_pred):\n",
    "        writer.writerow([str(eval_data['id'].iloc[index]) , str(int(prediction))])"
   ]
  }
 ],
 "metadata": {
  "kernelspec": {
   "display_name": "Python 3",
   "language": "python",
   "name": "python3"
  },
  "language_info": {
   "codemirror_mode": {
    "name": "ipython",
    "version": 3
   },
   "file_extension": ".py",
   "mimetype": "text/x-python",
   "name": "python",
   "nbconvert_exporter": "python",
   "pygments_lexer": "ipython3",
   "version": "3.7.6"
  }
 },
 "nbformat": 4,
 "nbformat_minor": 4
}
