{
 "cells": [
  {
   "cell_type": "code",
   "execution_count": 2,
   "metadata": {},
   "outputs": [],
   "source": [
    "import csv\n",
    "import numpy as np\n",
    "import pandas as pd\n",
    "from sklearn.feature_extraction.text import TfidfVectorizer\n",
    "from sklearn.metrics import mean_absolute_error\n",
    "from verstack.stratified_continuous_split import scsplit # pip install verstack\n",
    "from sklearn.svm import SVR, LinearSVR\n",
    "from sklearn.kernel_approximation import Nystroem"
   ]
  },
  {
   "cell_type": "markdown",
   "metadata": {},
   "source": [
    "### data pre-precess"
   ]
  },
  {
   "cell_type": "code",
   "execution_count": 3,
   "metadata": {},
   "outputs": [],
   "source": [
    "# Load the training data\n",
    "train_data = pd.read_csv(\"data/train_transformed.csv\")"
   ]
  },
  {
   "cell_type": "code",
   "execution_count": 6,
   "metadata": {},
   "outputs": [
    {
     "data": {
      "text/html": [
       "<div>\n",
       "<style scoped>\n",
       "    .dataframe tbody tr th:only-of-type {\n",
       "        vertical-align: middle;\n",
       "    }\n",
       "\n",
       "    .dataframe tbody tr th {\n",
       "        vertical-align: top;\n",
       "    }\n",
       "\n",
       "    .dataframe thead th {\n",
       "        text-align: right;\n",
       "    }\n",
       "</style>\n",
       "<table border=\"1\" class=\"dataframe\">\n",
       "  <thead>\n",
       "    <tr style=\"text-align: right;\">\n",
       "      <th></th>\n",
       "      <th>id</th>\n",
       "      <th>user_verified</th>\n",
       "      <th>user_statuses_count</th>\n",
       "      <th>user_followers_count</th>\n",
       "      <th>user_friends_count</th>\n",
       "      <th>ratio_friends_followers</th>\n",
       "      <th>mention_exist</th>\n",
       "      <th>mention_count</th>\n",
       "      <th>url_exist</th>\n",
       "      <th>url_count</th>\n",
       "      <th>...</th>\n",
       "      <th>tf_idf_0</th>\n",
       "      <th>tf_idf_1</th>\n",
       "      <th>tf_idf_2</th>\n",
       "      <th>tf_idf_3</th>\n",
       "      <th>tf_idf_4</th>\n",
       "      <th>tf_idf_5</th>\n",
       "      <th>tf_idf_6</th>\n",
       "      <th>tf_idf_7</th>\n",
       "      <th>tf_idf_8</th>\n",
       "      <th>tf_idf_9</th>\n",
       "    </tr>\n",
       "  </thead>\n",
       "  <tbody>\n",
       "    <tr>\n",
       "      <th>0</th>\n",
       "      <td>0</td>\n",
       "      <td>0</td>\n",
       "      <td>68460</td>\n",
       "      <td>1101</td>\n",
       "      <td>1226</td>\n",
       "      <td>1.112523</td>\n",
       "      <td>0</td>\n",
       "      <td>0</td>\n",
       "      <td>0</td>\n",
       "      <td>0</td>\n",
       "      <td>...</td>\n",
       "      <td>-1.606137e-15</td>\n",
       "      <td>-1.992248e-13</td>\n",
       "      <td>-6.077335e-13</td>\n",
       "      <td>-1.726278e-12</td>\n",
       "      <td>7.402787e-13</td>\n",
       "      <td>2.375980e-14</td>\n",
       "      <td>2.692723e-13</td>\n",
       "      <td>5.657295e-13</td>\n",
       "      <td>-2.124336e-14</td>\n",
       "      <td>9.444088e-14</td>\n",
       "    </tr>\n",
       "    <tr>\n",
       "      <th>1</th>\n",
       "      <td>1</td>\n",
       "      <td>0</td>\n",
       "      <td>309</td>\n",
       "      <td>51</td>\n",
       "      <td>202</td>\n",
       "      <td>3.884615</td>\n",
       "      <td>0</td>\n",
       "      <td>0</td>\n",
       "      <td>0</td>\n",
       "      <td>0</td>\n",
       "      <td>...</td>\n",
       "      <td>1.206801e-02</td>\n",
       "      <td>2.715082e-03</td>\n",
       "      <td>1.318767e-02</td>\n",
       "      <td>3.157979e-02</td>\n",
       "      <td>2.662453e-02</td>\n",
       "      <td>1.621955e-02</td>\n",
       "      <td>-2.204838e-02</td>\n",
       "      <td>9.316040e-03</td>\n",
       "      <td>3.288260e-03</td>\n",
       "      <td>7.966161e-02</td>\n",
       "    </tr>\n",
       "    <tr>\n",
       "      <th>2</th>\n",
       "      <td>2</td>\n",
       "      <td>0</td>\n",
       "      <td>3241</td>\n",
       "      <td>1675</td>\n",
       "      <td>2325</td>\n",
       "      <td>1.387232</td>\n",
       "      <td>0</td>\n",
       "      <td>0</td>\n",
       "      <td>0</td>\n",
       "      <td>0</td>\n",
       "      <td>...</td>\n",
       "      <td>5.095493e-02</td>\n",
       "      <td>-1.131896e-03</td>\n",
       "      <td>3.852378e-02</td>\n",
       "      <td>1.163440e-01</td>\n",
       "      <td>1.542300e-01</td>\n",
       "      <td>2.938599e-01</td>\n",
       "      <td>4.018045e-01</td>\n",
       "      <td>1.909630e-01</td>\n",
       "      <td>3.218782e-01</td>\n",
       "      <td>-4.933187e-02</td>\n",
       "    </tr>\n",
       "    <tr>\n",
       "      <th>3</th>\n",
       "      <td>3</td>\n",
       "      <td>0</td>\n",
       "      <td>32327</td>\n",
       "      <td>667</td>\n",
       "      <td>304</td>\n",
       "      <td>0.455090</td>\n",
       "      <td>0</td>\n",
       "      <td>0</td>\n",
       "      <td>0</td>\n",
       "      <td>0</td>\n",
       "      <td>...</td>\n",
       "      <td>8.873053e-03</td>\n",
       "      <td>1.403727e-03</td>\n",
       "      <td>3.399734e-03</td>\n",
       "      <td>1.401861e-02</td>\n",
       "      <td>9.761796e-03</td>\n",
       "      <td>9.215406e-03</td>\n",
       "      <td>6.693422e-03</td>\n",
       "      <td>8.483338e-03</td>\n",
       "      <td>-2.502589e-03</td>\n",
       "      <td>1.261141e-02</td>\n",
       "    </tr>\n",
       "    <tr>\n",
       "      <th>4</th>\n",
       "      <td>4</td>\n",
       "      <td>0</td>\n",
       "      <td>581</td>\n",
       "      <td>42</td>\n",
       "      <td>127</td>\n",
       "      <td>2.953488</td>\n",
       "      <td>0</td>\n",
       "      <td>0</td>\n",
       "      <td>0</td>\n",
       "      <td>0</td>\n",
       "      <td>...</td>\n",
       "      <td>2.774364e-02</td>\n",
       "      <td>-1.756079e-03</td>\n",
       "      <td>8.245230e-03</td>\n",
       "      <td>3.155745e-02</td>\n",
       "      <td>1.385880e-02</td>\n",
       "      <td>5.119571e-03</td>\n",
       "      <td>3.617241e-03</td>\n",
       "      <td>1.908667e-02</td>\n",
       "      <td>-1.212654e-02</td>\n",
       "      <td>1.883319e-02</td>\n",
       "    </tr>\n",
       "  </tbody>\n",
       "</table>\n",
       "<p>5 rows × 31 columns</p>\n",
       "</div>"
      ],
      "text/plain": [
       "   id  user_verified  user_statuses_count  user_followers_count  \\\n",
       "0   0              0                68460                  1101   \n",
       "1   1              0                  309                    51   \n",
       "2   2              0                 3241                  1675   \n",
       "3   3              0                32327                   667   \n",
       "4   4              0                  581                    42   \n",
       "\n",
       "   user_friends_count  ratio_friends_followers  mention_exist  mention_count  \\\n",
       "0                1226                 1.112523              0              0   \n",
       "1                 202                 3.884615              0              0   \n",
       "2                2325                 1.387232              0              0   \n",
       "3                 304                 0.455090              0              0   \n",
       "4                 127                 2.953488              0              0   \n",
       "\n",
       "   url_exist  url_count  ...      tf_idf_0      tf_idf_1      tf_idf_2  \\\n",
       "0          0          0  ... -1.606137e-15 -1.992248e-13 -6.077335e-13   \n",
       "1          0          0  ...  1.206801e-02  2.715082e-03  1.318767e-02   \n",
       "2          0          0  ...  5.095493e-02 -1.131896e-03  3.852378e-02   \n",
       "3          0          0  ...  8.873053e-03  1.403727e-03  3.399734e-03   \n",
       "4          0          0  ...  2.774364e-02 -1.756079e-03  8.245230e-03   \n",
       "\n",
       "       tf_idf_3      tf_idf_4      tf_idf_5      tf_idf_6      tf_idf_7  \\\n",
       "0 -1.726278e-12  7.402787e-13  2.375980e-14  2.692723e-13  5.657295e-13   \n",
       "1  3.157979e-02  2.662453e-02  1.621955e-02 -2.204838e-02  9.316040e-03   \n",
       "2  1.163440e-01  1.542300e-01  2.938599e-01  4.018045e-01  1.909630e-01   \n",
       "3  1.401861e-02  9.761796e-03  9.215406e-03  6.693422e-03  8.483338e-03   \n",
       "4  3.155745e-02  1.385880e-02  5.119571e-03  3.617241e-03  1.908667e-02   \n",
       "\n",
       "       tf_idf_8      tf_idf_9  \n",
       "0 -2.124336e-14  9.444088e-14  \n",
       "1  3.288260e-03  7.966161e-02  \n",
       "2  3.218782e-01 -4.933187e-02  \n",
       "3 -2.502589e-03  1.261141e-02  \n",
       "4 -1.212654e-02  1.883319e-02  \n",
       "\n",
       "[5 rows x 31 columns]"
      ]
     },
     "execution_count": 6,
     "metadata": {},
     "output_type": "execute_result"
    }
   ],
   "source": [
    "train_data.head()"
   ]
  },
  {
   "cell_type": "code",
   "execution_count": 7,
   "metadata": {},
   "outputs": [
    {
     "name": "stdout",
     "output_type": "stream",
     "text": [
      "[-12 -13 -14 -15 -10  -9  -8  -7  -6  -5  -4  -3  -2  -1]\n"
     ]
    }
   ],
   "source": [
    "features_number=np.append([-12,-13,-14,-15],np.arange(-10,0,1))\n",
    "print(features_number)"
   ]
  },
  {
   "cell_type": "code",
   "execution_count": 1,
   "metadata": {},
   "outputs": [],
   "source": [
    "def get_features_set(X_train, features_number):\n",
    "    features = X_train.columns.values.tolist()\n",
    "    cols = []\n",
    "    for i in features_number:\n",
    "        cols.append(features[i])\n",
    "    return X_train[cols]"
   ]
  },
  {
   "cell_type": "code",
   "execution_count": 8,
   "metadata": {},
   "outputs": [],
   "source": [
    "# scsplit method is used in order to split our regression data in a stratisfied way and keep a similar distribution of retweet counts between the two sets\n",
    "X_train_all, X_test_all, y_train, y_test = scsplit(train_data, train_data['retweet_count'], stratify=train_data['retweet_count'], train_size=0.7, test_size=0.3)\n"
   ]
  },
  {
   "cell_type": "code",
   "execution_count": 9,
   "metadata": {},
   "outputs": [
    {
     "name": "stdout",
     "output_type": "stream",
     "text": [
      "['id', 'user_verified', 'user_statuses_count', 'user_followers_count', 'user_friends_count', 'ratio_friends_followers', 'mention_exist', 'mention_count', 'url_exist', 'url_count', 'hashtag_exist', 'hashtag_count', 'timeseg', 'weekend', 'day_of_week', 'text_length', 'sentiment_pos', 'sentiment_neg', 'sentiment_neu', 'sentiment_comp', 'retweet_count', 'tf_idf_0', 'tf_idf_1', 'tf_idf_2', 'tf_idf_3', 'tf_idf_4', 'tf_idf_5', 'tf_idf_6', 'tf_idf_7', 'tf_idf_8', 'tf_idf_9']\n"
     ]
    }
   ],
   "source": [
    "print(train_data.columns.values.tolist())"
   ]
  },
  {
   "cell_type": "code",
   "execution_count": 10,
   "metadata": {},
   "outputs": [
    {
     "data": {
      "text/html": [
       "<div>\n",
       "<style scoped>\n",
       "    .dataframe tbody tr th:only-of-type {\n",
       "        vertical-align: middle;\n",
       "    }\n",
       "\n",
       "    .dataframe tbody tr th {\n",
       "        vertical-align: top;\n",
       "    }\n",
       "\n",
       "    .dataframe thead th {\n",
       "        text-align: right;\n",
       "    }\n",
       "</style>\n",
       "<table border=\"1\" class=\"dataframe\">\n",
       "  <thead>\n",
       "    <tr style=\"text-align: right;\">\n",
       "      <th></th>\n",
       "      <th>sentiment_comp</th>\n",
       "      <th>sentiment_neu</th>\n",
       "      <th>sentiment_neg</th>\n",
       "      <th>sentiment_pos</th>\n",
       "      <th>tf_idf_0</th>\n",
       "      <th>tf_idf_1</th>\n",
       "      <th>tf_idf_2</th>\n",
       "      <th>tf_idf_3</th>\n",
       "      <th>tf_idf_4</th>\n",
       "      <th>tf_idf_5</th>\n",
       "      <th>tf_idf_6</th>\n",
       "      <th>tf_idf_7</th>\n",
       "      <th>tf_idf_8</th>\n",
       "      <th>tf_idf_9</th>\n",
       "    </tr>\n",
       "  </thead>\n",
       "  <tbody>\n",
       "    <tr>\n",
       "      <th>138941</th>\n",
       "      <td>-0.4310</td>\n",
       "      <td>0.701</td>\n",
       "      <td>0.199</td>\n",
       "      <td>0.100</td>\n",
       "      <td>0.032565</td>\n",
       "      <td>0.010268</td>\n",
       "      <td>0.010578</td>\n",
       "      <td>0.034722</td>\n",
       "      <td>0.012313</td>\n",
       "      <td>0.019881</td>\n",
       "      <td>0.033847</td>\n",
       "      <td>0.049984</td>\n",
       "      <td>0.051010</td>\n",
       "      <td>-0.030254</td>\n",
       "    </tr>\n",
       "    <tr>\n",
       "      <th>36838</th>\n",
       "      <td>0.9561</td>\n",
       "      <td>0.424</td>\n",
       "      <td>0.000</td>\n",
       "      <td>0.576</td>\n",
       "      <td>0.021194</td>\n",
       "      <td>0.002777</td>\n",
       "      <td>0.008542</td>\n",
       "      <td>0.029635</td>\n",
       "      <td>0.016377</td>\n",
       "      <td>0.018611</td>\n",
       "      <td>-0.000308</td>\n",
       "      <td>0.047276</td>\n",
       "      <td>0.034843</td>\n",
       "      <td>0.044820</td>\n",
       "    </tr>\n",
       "    <tr>\n",
       "      <th>416454</th>\n",
       "      <td>0.8750</td>\n",
       "      <td>0.744</td>\n",
       "      <td>0.000</td>\n",
       "      <td>0.256</td>\n",
       "      <td>0.366710</td>\n",
       "      <td>-0.098684</td>\n",
       "      <td>-0.277720</td>\n",
       "      <td>0.231829</td>\n",
       "      <td>-0.117851</td>\n",
       "      <td>-0.035987</td>\n",
       "      <td>-0.018876</td>\n",
       "      <td>-0.073731</td>\n",
       "      <td>0.051102</td>\n",
       "      <td>-0.034062</td>\n",
       "    </tr>\n",
       "    <tr>\n",
       "      <th>656956</th>\n",
       "      <td>-0.5574</td>\n",
       "      <td>0.455</td>\n",
       "      <td>0.545</td>\n",
       "      <td>0.000</td>\n",
       "      <td>0.034345</td>\n",
       "      <td>-0.011252</td>\n",
       "      <td>0.036042</td>\n",
       "      <td>0.038673</td>\n",
       "      <td>0.058022</td>\n",
       "      <td>0.117585</td>\n",
       "      <td>0.050072</td>\n",
       "      <td>0.570273</td>\n",
       "      <td>0.761369</td>\n",
       "      <td>-0.170455</td>\n",
       "    </tr>\n",
       "    <tr>\n",
       "      <th>639505</th>\n",
       "      <td>0.4939</td>\n",
       "      <td>0.556</td>\n",
       "      <td>0.000</td>\n",
       "      <td>0.444</td>\n",
       "      <td>0.292932</td>\n",
       "      <td>-0.054718</td>\n",
       "      <td>-0.119719</td>\n",
       "      <td>-0.132251</td>\n",
       "      <td>0.042396</td>\n",
       "      <td>0.014522</td>\n",
       "      <td>0.001158</td>\n",
       "      <td>-0.001084</td>\n",
       "      <td>0.000531</td>\n",
       "      <td>0.007751</td>\n",
       "    </tr>\n",
       "  </tbody>\n",
       "</table>\n",
       "</div>"
      ],
      "text/plain": [
       "        sentiment_comp  sentiment_neu  sentiment_neg  sentiment_pos  tf_idf_0  \\\n",
       "138941         -0.4310          0.701          0.199          0.100  0.032565   \n",
       "36838           0.9561          0.424          0.000          0.576  0.021194   \n",
       "416454          0.8750          0.744          0.000          0.256  0.366710   \n",
       "656956         -0.5574          0.455          0.545          0.000  0.034345   \n",
       "639505          0.4939          0.556          0.000          0.444  0.292932   \n",
       "\n",
       "        tf_idf_1  tf_idf_2  tf_idf_3  tf_idf_4  tf_idf_5  tf_idf_6  tf_idf_7  \\\n",
       "138941  0.010268  0.010578  0.034722  0.012313  0.019881  0.033847  0.049984   \n",
       "36838   0.002777  0.008542  0.029635  0.016377  0.018611 -0.000308  0.047276   \n",
       "416454 -0.098684 -0.277720  0.231829 -0.117851 -0.035987 -0.018876 -0.073731   \n",
       "656956 -0.011252  0.036042  0.038673  0.058022  0.117585  0.050072  0.570273   \n",
       "639505 -0.054718 -0.119719 -0.132251  0.042396  0.014522  0.001158 -0.001084   \n",
       "\n",
       "        tf_idf_8  tf_idf_9  \n",
       "138941  0.051010 -0.030254  \n",
       "36838   0.034843  0.044820  \n",
       "416454  0.051102 -0.034062  \n",
       "656956  0.761369 -0.170455  \n",
       "639505  0.000531  0.007751  "
      ]
     },
     "execution_count": 10,
     "metadata": {},
     "output_type": "execute_result"
    }
   ],
   "source": [
    "X_train = get_features_set(X_train_all, features_number)\n",
    "X_test =  get_features_set(X_test_all, features_number )\n",
    "X_train.head()"
   ]
  },
  {
   "cell_type": "markdown",
   "metadata": {},
   "source": [
    "## MODEL\n",
    "\n",
    "###  1) SVR\n",
    "\n",
    "####   1.1 kernel approximation + LinearSVR"
   ]
  },
  {
   "cell_type": "code",
   "execution_count": 11,
   "metadata": {},
   "outputs": [],
   "source": [
    "def ka_linearsvr_predict(X_train,y_train,X_test):\n",
    "    # kernel approximation \n",
    "    feature_map_nystroem = Nystroem()\n",
    "    X_train_transformed = feature_map_nystroem.fit_transform(X_train)\n",
    "    X_test_transformed = feature_map_nystroem.fit_transform(X_test)\n",
    "    \n",
    "    # svr\n",
    "    clf = LinearSVR()\n",
    "    clf.fit(X_train_transformed, y_train)\n",
    "    \n",
    "    return clf.predict(X_test_transformed)"
   ]
  },
  {
   "cell_type": "code",
   "execution_count": 12,
   "metadata": {},
   "outputs": [
    {
     "name": "stdout",
     "output_type": "stream",
     "text": [
      "Prediction error rbf: 148.85877112174524\n"
     ]
    }
   ],
   "source": [
    "y_test_pre =ka_linearsvr_predict(X_train,y_train,X_test)\n",
    "print(\"Prediction error rbf:\", mean_absolute_error(y_true=y_test, y_pred=y_test_pre))"
   ]
  },
  {
   "cell_type": "markdown",
   "metadata": {},
   "source": [
    "####  1.2 LinearSVR"
   ]
  },
  {
   "cell_type": "code",
   "execution_count": 43,
   "metadata": {},
   "outputs": [],
   "source": [
    "# import random\n",
    "# random.seed( 10 )"
   ]
  },
  {
   "cell_type": "code",
   "execution_count": 13,
   "metadata": {},
   "outputs": [],
   "source": [
    "def linearsvr_predict(X_train, y_train,X_test):\n",
    "    clf = LinearSVR()\n",
    "    clf.fit(X_train, y_train)\n",
    "    return clf.predict(X_test)"
   ]
  },
  {
   "cell_type": "code",
   "execution_count": 14,
   "metadata": {},
   "outputs": [
    {
     "name": "stdout",
     "output_type": "stream",
     "text": [
      "Prediction error rbf: 145.98676045500395\n"
     ]
    }
   ],
   "source": [
    "y_test_pre=linearsvr_predict(X_train, y_train, X_test)\n",
    "print(\"Prediction error rbf:\", mean_absolute_error(y_true=y_test, y_pred=y_test_pre))"
   ]
  },
  {
   "cell_type": "markdown",
   "metadata": {},
   "source": [
    "####  1.3 kernel approximation + SGDRegressor"
   ]
  },
  {
   "cell_type": "code",
   "execution_count": 15,
   "metadata": {},
   "outputs": [],
   "source": [
    "from sklearn.linear_model import SGDRegressor\n",
    "from sklearn.pipeline import make_pipeline\n",
    "from sklearn.preprocessing import StandardScaler\n"
   ]
  },
  {
   "cell_type": "code",
   "execution_count": 16,
   "metadata": {},
   "outputs": [],
   "source": [
    "def kasgd(X_train_data,X_test_data, y_train,y_test):\n",
    "    feature_map_nystroem = Nystroem()\n",
    "    X_train_transformed = feature_map_nystroem.fit_transform(X_train_data)\n",
    "    X_test_transformed = feature_map_nystroem.transform(X_test_data)\n",
    "    reg = make_pipeline(StandardScaler(),SGDRegressor(max_iter=1000, tol=1e-3))\n",
    "    reg.fit(X_train_transformed, y_train)\n",
    "    y_pre=reg.predict(X_test_transformed)\n",
    "    print(\"Prediction error rbf:\", mean_absolute_error(y_true=y_test, y_pred=y_pre))"
   ]
  },
  {
   "cell_type": "code",
   "execution_count": 18,
   "metadata": {},
   "outputs": [
    {
     "name": "stdout",
     "output_type": "stream",
     "text": [
      "Prediction error rbf: 331.30064846683445\n"
     ]
    }
   ],
   "source": [
    "kasgd(X_train,X_test, y_train,y_test)"
   ]
  },
  {
   "cell_type": "markdown",
   "metadata": {},
   "source": [
    "####  1.4 SGDRegressor"
   ]
  },
  {
   "cell_type": "code",
   "execution_count": 19,
   "metadata": {},
   "outputs": [],
   "source": [
    "def sgd(X_train_data,X_test_data, y_train,y_test):\n",
    "    reg = make_pipeline(StandardScaler(),SGDRegressor(max_iter=1000, tol=1e-3))\n",
    "    reg.fit(X_train_data, y_train)\n",
    "    y_pre=reg.predict(X_test_data)\n",
    "    print(\"Prediction error rbf:\", mean_absolute_error(y_true=y_test, y_pred=y_pre))"
   ]
  },
  {
   "cell_type": "code",
   "execution_count": 23,
   "metadata": {},
   "outputs": [
    {
     "name": "stdout",
     "output_type": "stream",
     "text": [
      "Prediction error rbf: 274.69940515841137\n"
     ]
    }
   ],
   "source": [
    "sgd(X_train_data,X_test_data, y_train,y_test)"
   ]
  },
  {
   "cell_type": "markdown",
   "metadata": {},
   "source": [
    "### prediction"
   ]
  },
  {
   "cell_type": "code",
   "execution_count": 87,
   "metadata": {},
   "outputs": [],
   "source": [
    "X_train=get_features_set(train_data, features_number)\n",
    "y_train = train_data['retweet_count']\n",
    "eval_data = pd.read_csv(\"data/evaluation_transformed.csv\")\n",
    "X_val = get_features_set(eval_data, features_number)\n",
    "\n",
    "\n",
    "\n",
    "y_pred = ka_linearsvr_predict(X_train,y_train,X_val) #################\n",
    "\n",
    "# Dump the results into a file that follows the required Kaggle template\n",
    "with open(\"prediction/svr_predictions.csv\", 'w') as f:\n",
    "    writer = csv.writer(f)\n",
    "    writer.writerow([\"TweetID\", \"NoRetweets\"])\n",
    "    for index, prediction in enumerate(y_pred):\n",
    "        writer.writerow([str(eval_data['id'].iloc[index]) , str(int(prediction))])"
   ]
  }
 ],
 "metadata": {
  "kernelspec": {
   "display_name": "Python 3",
   "language": "python",
   "name": "python3"
  },
  "language_info": {
   "codemirror_mode": {
    "name": "ipython",
    "version": 3
   },
   "file_extension": ".py",
   "mimetype": "text/x-python",
   "name": "python",
   "nbconvert_exporter": "python",
   "pygments_lexer": "ipython3",
   "version": "3.7.4"
  }
 },
 "nbformat": 4,
 "nbformat_minor": 4
}
